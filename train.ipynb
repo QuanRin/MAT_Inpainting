{
 "cells": [
  {
   "cell_type": "code",
   "execution_count": 5,
   "id": "initial_id",
   "metadata": {
    "ExecuteTime": {
     "end_time": "2024-12-13T15:20:17.422383Z",
     "start_time": "2024-12-13T15:20:17.169609Z"
    },
    "collapsed": true
   },
   "outputs": [],
   "source": [
    "from PIL import Image, ImageOps\n",
    "import os\n",
    "\n",
    "def resize_and_pad(image_path, output_path):\n",
    "    # Open the image\n",
    "    image = Image.open(image_path)\n",
    "\n",
    "    # Get original dimensions\n",
    "    original_width, original_height = image.size\n",
    "\n",
    "    # Determine the scaling factor to make the longer side 256\n",
    "    if original_width > original_height:\n",
    "        scale_factor = 256 / original_width\n",
    "        new_width = 256\n",
    "        new_height = int(original_height * scale_factor)\n",
    "    else:\n",
    "        scale_factor = 256 / original_height\n",
    "        new_width = int(original_width * scale_factor)\n",
    "        new_height = 256\n",
    "\n",
    "    # Resize the image with the calculated dimensions\n",
    "    resized_image = image.resize((new_width, new_height), Image.LANCZOS)\n",
    "\n",
    "    # Create a new 256x256 white background image\n",
    "    background = Image.new(\"RGB\", (256, 256), (255, 255, 255))\n",
    "\n",
    "    # Paste the resized image onto the center of the background\n",
    "    offset_x = (256 - new_width) // 2\n",
    "    offset_y = (256 - new_height) // 2\n",
    "    background.paste(resized_image, (offset_x, offset_y))\n",
    "\n",
    "    # Save the output image\n",
    "    background.save(output_path)"
   ]
  },
  {
   "cell_type": "code",
   "execution_count": 6,
   "id": "4d2cfadfc1352c",
   "metadata": {
    "ExecuteTime": {
     "end_time": "2024-12-13T15:45:22.611297Z",
     "start_time": "2024-12-13T15:45:22.423477Z"
    }
   },
   "outputs": [
    {
     "name": "stdout",
     "output_type": "stream",
     "text": [
      "Start\n",
      "Traceback (most recent call last):\n",
      "  File \"train.py\", line 648, in <module>\n",
      "    main() # pylint: disable=no-value-for-parameter\n",
      "  File \"D:\\SDK\\Python\\venv\\mat-3.7\\lib\\site-packages\\click\\core.py\", line 1157, in __call__\n",
      "    return self.main(*args, **kwargs)\n",
      "  File \"D:\\SDK\\Python\\venv\\mat-3.7\\lib\\site-packages\\click\\core.py\", line 1078, in main\n",
      "    rv = self.invoke(ctx)\n",
      "  File \"D:\\SDK\\Python\\venv\\mat-3.7\\lib\\site-packages\\click\\core.py\", line 1434, in invoke\n",
      "    return ctx.invoke(self.callback, **ctx.params)\n",
      "  File \"D:\\SDK\\Python\\venv\\mat-3.7\\lib\\site-packages\\click\\core.py\", line 783, in invoke\n",
      "    return __callback(*args, **kwargs)\n",
      "  File \"D:\\SDK\\Python\\venv\\mat-3.7\\lib\\site-packages\\click\\decorators.py\", line 33, in new_func\n",
      "    return f(get_current_context(), *args, **kwargs)\n",
      "  File \"train.py\", line 589, in main\n",
      "    run_desc, args = setup_training_loop_kwargs(**config_kwargs)\n",
      "  File \"train.py\", line 136, in setup_training_loop_kwargs\n",
      "    training_set = dnnlib.util.construct_class_by_name(**args.training_set_kwargs) # subclass of training.dataset.Dataset\n",
      "  File \"D:\\MAT\\dnnlib\\util.py\", line 289, in construct_class_by_name\n",
      "    return call_func_by_name(*args, func_name=class_name, **kwargs)\n",
      "  File \"D:\\MAT\\dnnlib\\util.py\", line 282, in call_func_by_name\n",
      "    func_obj = get_obj_by_name(func_name)\n",
      "  File \"D:\\MAT\\dnnlib\\util.py\", line 275, in get_obj_by_name\n",
      "    module, obj_name = get_module_from_obj_name(name)\n",
      "  File \"D:\\MAT\\dnnlib\\util.py\", line 246, in get_module_from_obj_name\n",
      "    importlib.import_module(module_name) # may raise ImportError\n",
      "  File \"C:\\Python37\\lib\\importlib\\__init__.py\", line 127, in import_module\n",
      "    return _bootstrap._gcd_import(name[level:], package, level)\n",
      "  File \"<frozen importlib._bootstrap>\", line 1006, in _gcd_import\n",
      "  File \"<frozen importlib._bootstrap>\", line 983, in _find_and_load\n",
      "  File \"<frozen importlib._bootstrap>\", line 953, in _find_and_load_unlocked\n",
      "  File \"<frozen importlib._bootstrap>\", line 219, in _call_with_frames_removed\n",
      "  File \"<frozen importlib._bootstrap>\", line 1006, in _gcd_import\n",
      "  File \"<frozen importlib._bootstrap>\", line 983, in _find_and_load\n",
      "  File \"<frozen importlib._bootstrap>\", line 965, in _find_and_load_unlocked\n",
      "ModuleNotFoundError: No module named 'datasets.c'\n"
     ]
    }
   ],
   "source": [
    "!python train.py \\\n",
    "    --outdir=train_logs \\\n",
    "    --gpus=1 --batch=2 --metrics=fid36k5_full --data=mydataset/train --data_val=mydataset/valid \\\n",
    "    --dataloader=datasets.c.ImageFolderMaskDataset --mirror=True --cond=False --cfg=auto --aug=noaug --generator=networks.mat.Generator --discriminator=networks.mat.Discriminator --loss=losses.loss.TwoStageLoss --pr=0.1 --pl=False --truncation=0.5 --style_mix=0.5 --ema=10 --lr=0.001 --resume=celebahq256"
   ]
  }
 ],
 "metadata": {
  "kernelspec": {
   "display_name": "Python 3 (ipykernel)",
   "language": "python",
   "name": "python3"
  },
  "language_info": {
   "codemirror_mode": {
    "name": "ipython",
    "version": 3
   },
   "file_extension": ".py",
   "mimetype": "text/x-python",
   "name": "python",
   "nbconvert_exporter": "python",
   "pygments_lexer": "ipython3",
   "version": "3.7.9"
  }
 },
 "nbformat": 4,
 "nbformat_minor": 5
}
